{
 "cells": [
  {
   "cell_type": "markdown",
   "id": "ed8a056c",
   "metadata": {},
   "source": [
    "# Municipal Coupling Validation\n",
    "\n",
    "This notebook trains the phase 1 national–municipal coupling model and validates its predictions on the 2021 municipal election (holdout set)."
   ]
  },
  {
   "cell_type": "code",
   "execution_count": null,
   "id": "9cf43bd5",
   "metadata": {},
   "outputs": [],
   "source": [
    "from pathlib import Path\n",
    "\n",
    "import arviz as az\n",
    "import pandas as pd\n",
    "import matplotlib.pyplot as plt\n",
    "\n",
    "from src.models.municipal_coupling_model import train_coupling_model, MunicipalCouplingModel\n",
    "from src.data.municipal_coupling import build_municipal_coupling_dataset\n"
   ]
  },
  {
   "cell_type": "code",
   "execution_count": null,
   "id": "d0eb8119",
   "metadata": {},
   "outputs": [],
   "source": [
    "TRACE_PATH = Path('outputs/latest/trace.zarr')\n",
    "OUTPUT_DIR = Path('outputs/municipal_coupling_validation')\n",
    "ELECTION_YEARS = [2009, 2013, 2017, 2021]\n",
    "TRAIN_YEARS = [2009, 2013, 2017]\n",
    "DRAW_COUNT = 500\n",
    "TUNE_STEPS = 500\n",
    "TARGET_ACCEPT = 0.9\n",
    "SEED = 42\n",
    "OUTPUT_DIR.mkdir(parents=True, exist_ok=True)\n",
    "print(OUTPUT_DIR)\n"
   ]
  },
  {
   "cell_type": "markdown",
   "id": "f94994fe",
   "metadata": {},
   "source": [
    "## Train the coupling model\n",
    "\n",
    "> **Note**: This step can take several minutes depending on hardware. Adjust `DRAW_COUNT`/`TUNE_STEPS` above to trade accuracy for runtime."
   ]
  },
  {
   "cell_type": "code",
   "execution_count": null,
   "id": "41fec1d6",
   "metadata": {},
   "outputs": [],
   "source": [
    "%%time\n",
    "model, idata, evaluation = train_coupling_model(\n",
    "    trace_path=str(TRACE_PATH),\n",
    "    election_years=ELECTION_YEARS,\n",
    "    train_years=TRAIN_YEARS,\n",
    "    output_dir=OUTPUT_DIR,\n",
    "    draws=DRAW_COUNT,\n",
    "    tune=TUNE_STEPS,\n",
    "    target_accept=TARGET_ACCEPT,\n",
    "    random_seed=SEED,\n",
    ")\n",
    "evaluation"
   ]
  },
  {
   "cell_type": "markdown",
   "id": "492106c2",
   "metadata": {},
   "source": [
    "## Validate forecasts for 2021\n",
    "\n",
    "We compute winner accuracy and mean absolute error in vote shares using the held-out 2021 results."
   ]
  },
  {
   "cell_type": "code",
   "execution_count": null,
   "id": "3bf72b6c",
   "metadata": {},
   "outputs": [],
   "source": [
    "print(f'Winner accuracy: {evaluation.winner_accuracy:.3%}')\n",
    "print(f'Mean vote-share MAE: {evaluation.mean_vote_share_mae:.3%}')\n",
    "evaluation.predicted_vote_shares.head()"
   ]
  },
  {
   "cell_type": "markdown",
   "id": "3d949456",
   "metadata": {},
   "source": [
    "## Coupling parameter analysis\n",
    "\n",
    "Municipalities with high coupling lean heavily on the national signal, while low values indicate idiosyncratic local behaviour."
   ]
  },
  {
   "cell_type": "code",
   "execution_count": null,
   "id": "4f2e4bf2",
   "metadata": {},
   "outputs": [],
   "source": [
    "coupling_summary = evaluation.coupling_summary\n",
    "top_coupling = coupling_summary.nlargest(10, 'coupling_mean')\n",
    "bottom_coupling = coupling_summary.nsmallest(10, 'coupling_mean')\n",
    "display(top_coupling[['municipality_name', 'district_name', 'coupling_mean', 'hdi_lower', 'hdi_upper']])\n",
    "display(bottom_coupling[['municipality_name', 'district_name', 'coupling_mean', 'hdi_lower', 'hdi_upper']])\n"
   ]
  },
  {
   "cell_type": "markdown",
   "id": "4b9c2c46",
   "metadata": {},
   "source": [
    "### Coupling distribution"
   ]
  },
  {
   "cell_type": "code",
   "execution_count": null,
   "id": "d7d21b5b",
   "metadata": {},
   "outputs": [],
   "source": [
    "plt.figure(figsize=(10, 4))\n",
    "plt.hist(coupling_summary['coupling_mean'], bins=30, color='steelblue', edgecolor='white')\n",
    "plt.title('Posterior mean coupling per municipality')\n",
    "plt.xlabel('Coupling (weight on national signal)')\n",
    "plt.ylabel('Municipalities')\n",
    "plt.show()"
   ]
  },
  {
   "cell_type": "markdown",
   "id": "84bf36ae",
   "metadata": {},
   "source": [
    "## Save artefacts\n",
    "\n",
    "Store the inference data and key tables for downstream analysis."
   ]
  },
  {
   "cell_type": "code",
   "execution_count": null,
   "id": "fa301796",
   "metadata": {},
   "outputs": [],
   "source": [
    "az.to_netcdf(idata, OUTPUT_DIR / 'posterior.nc')\n",
    "coupling_summary.to_csv(OUTPUT_DIR / 'coupling_summary.csv', index=False)\n",
    "evaluation.predicted_vote_shares.to_csv(OUTPUT_DIR / 'predictions_2021.csv', index=False)\n",
    "evaluation.observed_vote_shares.to_csv(OUTPUT_DIR / 'observed_2021.csv', index=False)\n",
    "list(OUTPUT_DIR.iterdir())"
   ]
  }
 ],
 "metadata": {},
 "nbformat": 4,
 "nbformat_minor": 5
}
